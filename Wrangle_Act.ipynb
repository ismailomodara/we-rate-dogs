{
 "cells": [
  {
   "cell_type": "markdown",
   "id": "a4528cef",
   "metadata": {},
   "source": [
    "\n",
    "# Project: [WeRateDogs] Data Wrangling\n",
    "\n",
    "## Table of Contents\n",
    "<ul>\n",
    "<li><a href=\"#intro\">Introduction</a></li>\n",
    "<li><a href=\"#gathering\">Data Gathering</a></li>\n",
    "<li><a href=\"#assessing\">Data Assessing</a></li>\n",
    "<li><a href=\"#cleaning\">Data Cleaning</a></li>\n",
    "<li><a href=\"#conclusions\">Conclusions</a></li>\n",
    "<li><a href=\"#limitations\">Limitations</a>\n",
    "</ul>"
   ]
  },
  {
   "cell_type": "markdown",
   "id": "08ed86d2",
   "metadata": {},
   "source": [
    "<a id='intro'></a>\n",
    "## Introduction\n",
    "\n",
    "The process of gathering data for analysis can include gathering from varitety of sources, in different formats. The dataset we are about to wrangle (analyse and visualize) is the tweet arhcive of Twitter user [@dog_rates](https://twitter.com/dog_rates), also known as [WeRateDogs](https://en.wikipedia.org/wiki/WeRateDogs).\n",
    "\n",
    "WeRateDogs is a Twitter account that rates people's dogs witha. humoroius comment about the dog. We have an archived data that contains basic tweet data (weet ID, timestamp, text, etc) for over 5,000 tweets as they stood on August 1, 2017.\n",
    "\n",
    "We would be working with 3 differente datasets in this project.\n",
    "1. Enhanced Twitter Archive\n",
    "2. Image Predictions File\n",
    "3. Additional Data via the Twitter API"
   ]
  },
  {
   "cell_type": "markdown",
   "id": "9f7885ab",
   "metadata": {},
   "source": [
    "<a id='gathering'></a>\n",
    "## Data Gathering\n",
    "\n",
    "The goal here is to gather all the 3 datasets described in the introduction section."
   ]
  },
  {
   "cell_type": "code",
   "execution_count": 1,
   "id": "50131042",
   "metadata": {},
   "outputs": [],
   "source": [
    "# Importation of the gathered list of all packages to be used.\n",
    "\n",
    "import pandas as pd\n",
    "import requests\n",
    "import tweepy\n",
    "import json\n",
    "from timeit import default_timer as timer"
   ]
  },
  {
   "cell_type": "markdown",
   "id": "1e091731",
   "metadata": {},
   "source": [
    "### 1. Enhanced Twitter Archive\n",
    "\n",
    "The method for getting this dataset is by manual download, save it into our project folder and read it into a panda dataframe."
   ]
  },
  {
   "cell_type": "code",
   "execution_count": 2,
   "id": "90784d4e",
   "metadata": {},
   "outputs": [],
   "source": [
    "# Download and read the twitter archive data into a DataFrame\n",
    "\n",
    "df_tweets_archived = pd.read_csv(\"twitter-archive-enhanced.csv\")"
   ]
  },
  {
   "cell_type": "code",
   "execution_count": 3,
   "id": "b234c9cd",
   "metadata": {
    "scrolled": false
   },
   "outputs": [
    {
     "data": {
      "text/html": [
       "<div>\n",
       "<style scoped>\n",
       "    .dataframe tbody tr th:only-of-type {\n",
       "        vertical-align: middle;\n",
       "    }\n",
       "\n",
       "    .dataframe tbody tr th {\n",
       "        vertical-align: top;\n",
       "    }\n",
       "\n",
       "    .dataframe thead th {\n",
       "        text-align: right;\n",
       "    }\n",
       "</style>\n",
       "<table border=\"1\" class=\"dataframe\">\n",
       "  <thead>\n",
       "    <tr style=\"text-align: right;\">\n",
       "      <th></th>\n",
       "      <th>tweet_id</th>\n",
       "      <th>in_reply_to_status_id</th>\n",
       "      <th>in_reply_to_user_id</th>\n",
       "      <th>timestamp</th>\n",
       "      <th>source</th>\n",
       "      <th>text</th>\n",
       "      <th>retweeted_status_id</th>\n",
       "      <th>retweeted_status_user_id</th>\n",
       "      <th>retweeted_status_timestamp</th>\n",
       "      <th>expanded_urls</th>\n",
       "      <th>rating_numerator</th>\n",
       "      <th>rating_denominator</th>\n",
       "      <th>name</th>\n",
       "      <th>doggo</th>\n",
       "      <th>floofer</th>\n",
       "      <th>pupper</th>\n",
       "      <th>puppo</th>\n",
       "    </tr>\n",
       "  </thead>\n",
       "  <tbody>\n",
       "    <tr>\n",
       "      <th>0</th>\n",
       "      <td>892420643555336193</td>\n",
       "      <td>NaN</td>\n",
       "      <td>NaN</td>\n",
       "      <td>2017-08-01 16:23:56 +0000</td>\n",
       "      <td>&lt;a href=\"http://twitter.com/download/iphone\" r...</td>\n",
       "      <td>This is Phineas. He's a mystical boy. Only eve...</td>\n",
       "      <td>NaN</td>\n",
       "      <td>NaN</td>\n",
       "      <td>NaN</td>\n",
       "      <td>https://twitter.com/dog_rates/status/892420643...</td>\n",
       "      <td>13</td>\n",
       "      <td>10</td>\n",
       "      <td>Phineas</td>\n",
       "      <td>None</td>\n",
       "      <td>None</td>\n",
       "      <td>None</td>\n",
       "      <td>None</td>\n",
       "    </tr>\n",
       "    <tr>\n",
       "      <th>1</th>\n",
       "      <td>892177421306343426</td>\n",
       "      <td>NaN</td>\n",
       "      <td>NaN</td>\n",
       "      <td>2017-08-01 00:17:27 +0000</td>\n",
       "      <td>&lt;a href=\"http://twitter.com/download/iphone\" r...</td>\n",
       "      <td>This is Tilly. She's just checking pup on you....</td>\n",
       "      <td>NaN</td>\n",
       "      <td>NaN</td>\n",
       "      <td>NaN</td>\n",
       "      <td>https://twitter.com/dog_rates/status/892177421...</td>\n",
       "      <td>13</td>\n",
       "      <td>10</td>\n",
       "      <td>Tilly</td>\n",
       "      <td>None</td>\n",
       "      <td>None</td>\n",
       "      <td>None</td>\n",
       "      <td>None</td>\n",
       "    </tr>\n",
       "    <tr>\n",
       "      <th>2</th>\n",
       "      <td>891815181378084864</td>\n",
       "      <td>NaN</td>\n",
       "      <td>NaN</td>\n",
       "      <td>2017-07-31 00:18:03 +0000</td>\n",
       "      <td>&lt;a href=\"http://twitter.com/download/iphone\" r...</td>\n",
       "      <td>This is Archie. He is a rare Norwegian Pouncin...</td>\n",
       "      <td>NaN</td>\n",
       "      <td>NaN</td>\n",
       "      <td>NaN</td>\n",
       "      <td>https://twitter.com/dog_rates/status/891815181...</td>\n",
       "      <td>12</td>\n",
       "      <td>10</td>\n",
       "      <td>Archie</td>\n",
       "      <td>None</td>\n",
       "      <td>None</td>\n",
       "      <td>None</td>\n",
       "      <td>None</td>\n",
       "    </tr>\n",
       "    <tr>\n",
       "      <th>3</th>\n",
       "      <td>891689557279858688</td>\n",
       "      <td>NaN</td>\n",
       "      <td>NaN</td>\n",
       "      <td>2017-07-30 15:58:51 +0000</td>\n",
       "      <td>&lt;a href=\"http://twitter.com/download/iphone\" r...</td>\n",
       "      <td>This is Darla. She commenced a snooze mid meal...</td>\n",
       "      <td>NaN</td>\n",
       "      <td>NaN</td>\n",
       "      <td>NaN</td>\n",
       "      <td>https://twitter.com/dog_rates/status/891689557...</td>\n",
       "      <td>13</td>\n",
       "      <td>10</td>\n",
       "      <td>Darla</td>\n",
       "      <td>None</td>\n",
       "      <td>None</td>\n",
       "      <td>None</td>\n",
       "      <td>None</td>\n",
       "    </tr>\n",
       "    <tr>\n",
       "      <th>4</th>\n",
       "      <td>891327558926688256</td>\n",
       "      <td>NaN</td>\n",
       "      <td>NaN</td>\n",
       "      <td>2017-07-29 16:00:24 +0000</td>\n",
       "      <td>&lt;a href=\"http://twitter.com/download/iphone\" r...</td>\n",
       "      <td>This is Franklin. He would like you to stop ca...</td>\n",
       "      <td>NaN</td>\n",
       "      <td>NaN</td>\n",
       "      <td>NaN</td>\n",
       "      <td>https://twitter.com/dog_rates/status/891327558...</td>\n",
       "      <td>12</td>\n",
       "      <td>10</td>\n",
       "      <td>Franklin</td>\n",
       "      <td>None</td>\n",
       "      <td>None</td>\n",
       "      <td>None</td>\n",
       "      <td>None</td>\n",
       "    </tr>\n",
       "  </tbody>\n",
       "</table>\n",
       "</div>"
      ],
      "text/plain": [
       "             tweet_id  in_reply_to_status_id  in_reply_to_user_id  \\\n",
       "0  892420643555336193                    NaN                  NaN   \n",
       "1  892177421306343426                    NaN                  NaN   \n",
       "2  891815181378084864                    NaN                  NaN   \n",
       "3  891689557279858688                    NaN                  NaN   \n",
       "4  891327558926688256                    NaN                  NaN   \n",
       "\n",
       "                   timestamp  \\\n",
       "0  2017-08-01 16:23:56 +0000   \n",
       "1  2017-08-01 00:17:27 +0000   \n",
       "2  2017-07-31 00:18:03 +0000   \n",
       "3  2017-07-30 15:58:51 +0000   \n",
       "4  2017-07-29 16:00:24 +0000   \n",
       "\n",
       "                                              source  \\\n",
       "0  <a href=\"http://twitter.com/download/iphone\" r...   \n",
       "1  <a href=\"http://twitter.com/download/iphone\" r...   \n",
       "2  <a href=\"http://twitter.com/download/iphone\" r...   \n",
       "3  <a href=\"http://twitter.com/download/iphone\" r...   \n",
       "4  <a href=\"http://twitter.com/download/iphone\" r...   \n",
       "\n",
       "                                                text  retweeted_status_id  \\\n",
       "0  This is Phineas. He's a mystical boy. Only eve...                  NaN   \n",
       "1  This is Tilly. She's just checking pup on you....                  NaN   \n",
       "2  This is Archie. He is a rare Norwegian Pouncin...                  NaN   \n",
       "3  This is Darla. She commenced a snooze mid meal...                  NaN   \n",
       "4  This is Franklin. He would like you to stop ca...                  NaN   \n",
       "\n",
       "   retweeted_status_user_id retweeted_status_timestamp  \\\n",
       "0                       NaN                        NaN   \n",
       "1                       NaN                        NaN   \n",
       "2                       NaN                        NaN   \n",
       "3                       NaN                        NaN   \n",
       "4                       NaN                        NaN   \n",
       "\n",
       "                                       expanded_urls  rating_numerator  \\\n",
       "0  https://twitter.com/dog_rates/status/892420643...                13   \n",
       "1  https://twitter.com/dog_rates/status/892177421...                13   \n",
       "2  https://twitter.com/dog_rates/status/891815181...                12   \n",
       "3  https://twitter.com/dog_rates/status/891689557...                13   \n",
       "4  https://twitter.com/dog_rates/status/891327558...                12   \n",
       "\n",
       "   rating_denominator      name doggo floofer pupper puppo  \n",
       "0                  10   Phineas  None    None   None  None  \n",
       "1                  10     Tilly  None    None   None  None  \n",
       "2                  10    Archie  None    None   None  None  \n",
       "3                  10     Darla  None    None   None  None  \n",
       "4                  10  Franklin  None    None   None  None  "
      ]
     },
     "execution_count": 3,
     "metadata": {},
     "output_type": "execute_result"
    }
   ],
   "source": [
    "df_tweets_archived.head()"
   ]
  },
  {
   "cell_type": "markdown",
   "id": "68851ae2",
   "metadata": {},
   "source": [
    "### 2. Image Predictions File\n",
    "\n",
    "The method for getting this dataset is by programmatically downloading and savign the file into our project folder. We have been provided with the url, we need to use the `request` library to download the file."
   ]
  },
  {
   "cell_type": "code",
   "execution_count": 4,
   "id": "74b547ba",
   "metadata": {},
   "outputs": [],
   "source": [
    "# Download Image Predictiosn data via `request` library and store it.\n",
    "\n",
    "# Source URL\n",
    "image_predictions_source = \"https://d17h27t6h515a5.cloudfront.net/topher/2017/August/599fd2ad_image-predictions/image-predictions.tsv\"\n",
    "\n",
    "with open(\"image-predictions.tsv\", mode=\"wb\") as file:\n",
    "    response = requests.get(image_predictions_source)\n",
    "    file.write(response.content)"
   ]
  },
  {
   "cell_type": "markdown",
   "id": "ef2b4a30",
   "metadata": {},
   "source": [
    "### 3. Additional Twitter Data\n",
    "\n",
    "The method for getting this dataset is by using an API, Twitter's API specifically.\n",
    "\n",
    "We have gone throught the process of creating a regular and developer's account on Twitter, so we can have access to the create a project on the portal."
   ]
  },
  {
   "cell_type": "code",
   "execution_count": 5,
   "id": "811f4faa",
   "metadata": {},
   "outputs": [],
   "source": [
    "# Setup credentials to setup tweepy's OAuth1UserHandler (previoulsy OAuthHandler) instance\n",
    "\n",
    "consumer_key = '15HiUfbHoPGXkcXwkeTIhf2D6'\n",
    "consumer_secret = 'UQpp0732wUJXuXHJljZIXNoMee6YMgHEmjc1IF3QshkPXRenZ6'\n",
    "access_token = '826506400734003201-bUwulLRoQSV9ryBpnqLTc6zphh7Ycfa'\n",
    "access_secret = '5kfzhpzfMj3o0SpveZcUJuNRzQLUeRmmRJnOVFR7rWHI5'\n",
    "\n",
    "auth = tweepy.OAuth1UserHandler(\n",
    "   consumer_key, consumer_secret, \n",
    "   access_token, access_secret\n",
    ")\n",
    "\n",
    "api = tweepy.API(auth, wait_on_rate_limit=True)"
   ]
  },
  {
   "cell_type": "code",
   "execution_count": 6,
   "id": "613277ea",
   "metadata": {},
   "outputs": [
    {
     "data": {
      "text/plain": [
       "2356"
      ]
     },
     "execution_count": 6,
     "metadata": {},
     "output_type": "execute_result"
    }
   ],
   "source": [
    "# Gather list of tweet's ids in archived dataset\n",
    "\n",
    "tweet_ids = df_tweets_archived.tweet_id.values\n",
    "len(tweet_ids)"
   ]
  },
  {
   "cell_type": "code",
   "execution_count": 8,
   "id": "a2712bfe",
   "metadata": {
    "scrolled": false
   },
   "outputs": [
    {
     "name": "stdout",
     "output_type": "stream",
     "text": [
      "Start - 45.364935291\n"
     ]
    },
    {
     "name": "stderr",
     "output_type": "stream",
     "text": [
      "Rate limit reached. Sleeping for: 171\n",
      "Rate limit reached. Sleeping for: 243\n"
     ]
    },
    {
     "name": "stdout",
     "output_type": "stream",
     "text": [
      "End - 2192.832309083 \n",
      "\n",
      "Duration - 2147.4673737919998\n",
      "{888202515573088257: NotFound('404 Not Found\\n144 - No status found with that ID.'), 877611172832227328: Forbidden('403 Forbidden\\n179 - Sorry, you are not authorized to see this status.'), 873697596434513921: NotFound('404 Not Found\\n144 - No status found with that ID.'), 872668790621863937: NotFound('404 Not Found\\n144 - No status found with that ID.'), 872261713294495745: NotFound('404 Not Found\\n144 - No status found with that ID.'), 869988702071779329: NotFound('404 Not Found\\n144 - No status found with that ID.'), 866816280283807744: NotFound('404 Not Found\\n144 - No status found with that ID.'), 861769973181624320: NotFound('404 Not Found\\n144 - No status found with that ID.'), 856602993587888130: NotFound('404 Not Found\\n144 - No status found with that ID.'), 856330835276025856: NotFound('404 Not Found\\n144 - No status found with that ID.'), 851953902622658560: NotFound('404 Not Found\\n144 - No status found with that ID.'), 851861385021730816: NotFound('404 Not Found\\n144 - No status found with that ID.'), 845459076796616705: NotFound('404 Not Found\\n144 - No status found with that ID.'), 844704788403113984: NotFound('404 Not Found\\n144 - No status found with that ID.'), 842892208864923648: NotFound('404 Not Found\\n144 - No status found with that ID.'), 839290600511926273: Forbidden('403 Forbidden\\n179 - Sorry, you are not authorized to see this status.'), 837366284874571778: NotFound('404 Not Found\\n144 - No status found with that ID.'), 837012587749474308: NotFound('404 Not Found\\n144 - No status found with that ID.'), 829374341691346946: NotFound('404 Not Found\\n144 - No status found with that ID.'), 827228250799742977: NotFound('404 Not Found\\n144 - No status found with that ID.'), 812747805718642688: NotFound('404 Not Found\\n144 - No status found with that ID.'), 802247111496568832: NotFound('404 Not Found\\n144 - No status found with that ID.'), 779123168116150273: NotFound('404 Not Found\\n144 - No status found with that ID.'), 775096608509886464: NotFound('404 Not Found\\n144 - No status found with that ID.'), 771004394259247104: Forbidden('403 Forbidden\\n179 - Sorry, you are not authorized to see this status.'), 770743923962707968: NotFound('404 Not Found\\n144 - No status found with that ID.'), 766864461642756096: NotFound('404 Not Found\\n144 - No status found with that ID.'), 759923798737051648: NotFound('404 Not Found\\n144 - No status found with that ID.'), 759566828574212096: NotFound('404 Not Found\\n144 - No status found with that ID.'), 754011816964026368: NotFound('404 Not Found\\n144 - No status found with that ID.'), 680055455951884288: NotFound('404 Not Found\\n144 - No status found with that ID.')}\n"
     ]
    }
   ],
   "source": [
    "# Query Twitter API for each tweet in the Twitter archive and save JSON in a text file\n",
    "# These are hidden to comply with Twitter's API terms and conditions\n",
    "\n",
    "# Query Twitter's API for JSON data for each tweet ID in the Twitter archive (tweet_ids)\n",
    "\n",
    "# Store list of tweets fetch that failed\n",
    "tweetfetch_fails = {}\n",
    "\n",
    "# Timer\n",
    "start = timer()\n",
    "print('Start - {}'.format(start))\n",
    "\n",
    "# Save each tweet's returned JSON as a new line in a .txt file\n",
    "with open('tweet_json.txt', 'w') as outfile:\n",
    "    \n",
    "    # This loop will likely take 20-30 minutes to run because of Twitter's rate limit\n",
    "    for id in tweet_ids:\n",
    "        try:\n",
    "            tweet = api.get_status(id)\n",
    "            \n",
    "            tweet_info = {\n",
    "                \"id\": str(id),\n",
    "                \"retweet_count\": str(tweet._json['retweet_count']),\n",
    "                \"favorite_count\": str(tweet._json['favorite_count'])\n",
    "            }\n",
    "            json.dump(tweet_info, outfile)\n",
    "            outfile.write('\\n')\n",
    "            \n",
    "        except tweepy.errors.TweepyException as e:\n",
    "            tweetfetch_fails[id] = e\n",
    "            pass\n",
    "end = timer()\n",
    "print('End - {} \\n'.format(end))\n",
    "\n",
    "print('Duration - {}'.format(end - start))\n",
    "print(tweetfetch_fails)\n"
   ]
  },
  {
   "cell_type": "code",
   "execution_count": 50,
   "id": "5e010f7f",
   "metadata": {},
   "outputs": [
    {
     "data": {
      "text/plain": [
       "[{'id': '892420643555336193',\n",
       "  'retweet_count': '6877',\n",
       "  'favorite_count': '32906'},\n",
       " {'id': '892177421306343426',\n",
       "  'retweet_count': '5179',\n",
       "  'favorite_count': '28436'},\n",
       " {'id': '891815181378084864',\n",
       "  'retweet_count': '3422',\n",
       "  'favorite_count': '21373'},\n",
       " {'id': '891689557279858688',\n",
       "  'retweet_count': '7086',\n",
       "  'favorite_count': '35873'},\n",
       " {'id': '891327558926688256',\n",
       "  'retweet_count': '7598',\n",
       "  'favorite_count': '34311'}]"
      ]
     },
     "execution_count": 50,
     "metadata": {},
     "output_type": "execute_result"
    }
   ],
   "source": [
    "# Reading our saved tweet_json file\n",
    "\n",
    "tweets_fetched = []\n",
    "\n",
    "with open(\"tweet_json.txt\", \"r\") as tweet_json:\n",
    "    for tweet in tweet_json.readlines():\n",
    "        tweets_fetched.append(json.loads(tweet.strip()))\n",
    "        \n",
    "tweets_fetched[0:5]"
   ]
  },
  {
   "cell_type": "code",
   "execution_count": 51,
   "id": "425f5169",
   "metadata": {},
   "outputs": [
    {
     "data": {
      "text/html": [
       "<div>\n",
       "<style scoped>\n",
       "    .dataframe tbody tr th:only-of-type {\n",
       "        vertical-align: middle;\n",
       "    }\n",
       "\n",
       "    .dataframe tbody tr th {\n",
       "        vertical-align: top;\n",
       "    }\n",
       "\n",
       "    .dataframe thead th {\n",
       "        text-align: right;\n",
       "    }\n",
       "</style>\n",
       "<table border=\"1\" class=\"dataframe\">\n",
       "  <thead>\n",
       "    <tr style=\"text-align: right;\">\n",
       "      <th></th>\n",
       "      <th>id</th>\n",
       "      <th>retweet_count</th>\n",
       "      <th>favorite_count</th>\n",
       "    </tr>\n",
       "  </thead>\n",
       "  <tbody>\n",
       "    <tr>\n",
       "      <th>0</th>\n",
       "      <td>892420643555336193</td>\n",
       "      <td>6877</td>\n",
       "      <td>32906</td>\n",
       "    </tr>\n",
       "    <tr>\n",
       "      <th>1</th>\n",
       "      <td>892177421306343426</td>\n",
       "      <td>5179</td>\n",
       "      <td>28436</td>\n",
       "    </tr>\n",
       "    <tr>\n",
       "      <th>2</th>\n",
       "      <td>891815181378084864</td>\n",
       "      <td>3422</td>\n",
       "      <td>21373</td>\n",
       "    </tr>\n",
       "    <tr>\n",
       "      <th>3</th>\n",
       "      <td>891689557279858688</td>\n",
       "      <td>7086</td>\n",
       "      <td>35873</td>\n",
       "    </tr>\n",
       "    <tr>\n",
       "      <th>4</th>\n",
       "      <td>891327558926688256</td>\n",
       "      <td>7598</td>\n",
       "      <td>34311</td>\n",
       "    </tr>\n",
       "  </tbody>\n",
       "</table>\n",
       "</div>"
      ],
      "text/plain": [
       "                   id retweet_count favorite_count\n",
       "0  892420643555336193          6877          32906\n",
       "1  892177421306343426          5179          28436\n",
       "2  891815181378084864          3422          21373\n",
       "3  891689557279858688          7086          35873\n",
       "4  891327558926688256          7598          34311"
      ]
     },
     "execution_count": 51,
     "metadata": {},
     "output_type": "execute_result"
    }
   ],
   "source": [
    "df_tweets_fetched = pd.DataFrame(tweets_fetched)\n",
    "df_tweets_fetched.head()"
   ]
  },
  {
   "cell_type": "code",
   "execution_count": null,
   "id": "dc6112d4",
   "metadata": {},
   "outputs": [],
   "source": []
  }
 ],
 "metadata": {
  "kernelspec": {
   "display_name": "Python [conda env:io] *",
   "language": "python",
   "name": "conda-env-io-py"
  },
  "language_info": {
   "codemirror_mode": {
    "name": "ipython",
    "version": 3
   },
   "file_extension": ".py",
   "mimetype": "text/x-python",
   "name": "python",
   "nbconvert_exporter": "python",
   "pygments_lexer": "ipython3",
   "version": "3.9.15"
  }
 },
 "nbformat": 4,
 "nbformat_minor": 5
}
