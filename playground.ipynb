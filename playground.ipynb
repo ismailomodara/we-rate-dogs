{
 "cells": [
  {
   "cell_type": "code",
   "execution_count": 9,
   "id": "21b592ea",
   "metadata": {},
   "outputs": [
    {
     "data": {
      "text/plain": [
       "<tweepy.api.API at 0x7f96602ea250>"
      ]
     },
     "execution_count": 9,
     "metadata": {},
     "output_type": "execute_result"
    }
   ],
   "source": [
    "# Getting started with tweey\n",
    "\n",
    "import tweepy\n",
    "\n",
    "auth = tweepy.OAuth2BearerHandler(\"AAAAAAAAAAAAAAAAAAAAAGfjkwEAAAAAx54Qf5ooByGwqdXdjpv8VrxNago%3D3QSrCznD4R327Mb8bWV42jIJqcp98VluMu4sLgFL8SlRkcw5a7\")\n",
    "apiBearer = tweepy.API(auth)\n",
    "\n",
    "apiBearer"
   ]
  },
  {
   "cell_type": "code",
   "execution_count": 8,
   "id": "56d9ff2d",
   "metadata": {},
   "outputs": [
    {
     "data": {
      "text/plain": [
       "<tweepy.api.API at 0x7f96602eab20>"
      ]
     },
     "execution_count": 8,
     "metadata": {},
     "output_type": "execute_result"
    }
   ],
   "source": [
    "auth = tweepy.OAuth2AppHandler(\n",
    "    \"15HiUfbHoPGXkcXwkeTIhf2D6\", \"UQpp0732wUJXuXHJljZIXNoMee6YMgHEmjc1IF3QshkPXRenZ6\"\n",
    ")\n",
    "apiAuth = tweepy.API(auth)\n",
    "\n",
    "apiAuth"
   ]
  },
  {
   "cell_type": "code",
   "execution_count": 24,
   "id": "c5a444e3",
   "metadata": {},
   "outputs": [
    {
     "data": {
      "text/plain": [
       "<tweepy.api.API at 0x7f96607039a0>"
      ]
     },
     "execution_count": 24,
     "metadata": {},
     "output_type": "execute_result"
    }
   ],
   "source": [
    "from tweepy import OAuthHandler\n",
    "import json\n",
    "from timeit import default_timer as timer\n",
    "\n",
    "# Query Twitter API for each tweet in the Twitter archive and save JSON in a text file\n",
    "# These are hidden to comply with Twitter's API terms and conditions\n",
    "consumer_key = '15HiUfbHoPGXkcXwkeTIhf2D6'\n",
    "consumer_secret = 'UQpp0732wUJXuXHJljZIXNoMee6YMgHEmjc1IF3QshkPXRenZ6'\n",
    "access_token = '826506400734003201-bUwulLRoQSV9ryBpnqLTc6zphh7Ycfa'\n",
    "access_secret = '5kfzhpzfMj3o0SpveZcUJuNRzQLUeRmmRJnOVFR7rWHI5'\n",
    "\n",
    "auth = tweepy.OAuth1UserHandler(\n",
    "   consumer_key, consumer_secret,\n",
    "   access_token, access_secret\n",
    ")\n",
    "\n",
    "api = tweepy.API(auth, wait_on_rate_limit=True)\n",
    "\n",
    "api"
   ]
  },
  {
   "cell_type": "code",
   "execution_count": 30,
   "id": "7459a284",
   "metadata": {
    "scrolled": true
   },
   "outputs": [],
   "source": [
    "# Query Twitter API for each tweet in the Twitter archive and save JSON in a text file\n",
    "# These are hidden to comply with Twitter's API terms and conditions\n",
    "\n",
    "consumer_key = '15HiUfbHoPGXkcXwkeTIhf2D6'\n",
    "consumer_secret = 'UQpp0732wUJXuXHJljZIXNoMee6YMgHEmjc1IF3QshkPXRenZ6'\n",
    "access_token = '826506400734003201-bUwulLRoQSV9ryBpnqLTc6zphh7Ycfa'\n",
    "access_secret = '5kfzhpzfMj3o0SpveZcUJuNRzQLUeRmmRJnOVFR7rWHI5'\n",
    "\n",
    "auth = tweepy.OAuth1UserHandler(\n",
    "   consumer_key, consumer_secret, \n",
    "   access_token, access_secret\n",
    ")\n",
    "\n",
    "api = tweepy.API(auth)"
   ]
  },
  {
   "cell_type": "code",
   "execution_count": 33,
   "id": "8d3f201b",
   "metadata": {},
   "outputs": [
    {
     "name": "stdout",
     "output_type": "stream",
     "text": [
      "3.125161291999575\n",
      "{}\n"
     ]
    }
   ],
   "source": [
    "# Query Twitter's API for JSON data for each tweet ID in the Twitter archive\n",
    "count = 0\n",
    "fails_dict = {}\n",
    "start = timer()\n",
    "# Save each tweet's returned JSON as a new line in a .txt file\n",
    "with open('tweet_json.txt', 'w') as outfile:\n",
    "    \n",
    "    # This loop will likely take 20-30 minutes to run because of Twitter's rate limit\n",
    "    for id in tweet_ids[0:5]:\n",
    "        count += 1\n",
    "        \n",
    "        try:\n",
    "            tweet = api.get_status(id)\n",
    "            \n",
    "            tweet_info = {\n",
    "                \"id\": str(id),\n",
    "                \"retweet_count\": str(tweet._json['retweet_count']),\n",
    "                \"favorite_count\": str(tweet._json['favorite_count'])\n",
    "            }\n",
    "            json.dump(tweet_info, outfile)\n",
    "            outfile.write('\\n')\n",
    "        except tweepy.errors.TweepyException as e:\n",
    "            tweetfetch_fails[id] = e\n",
    "            pass\n",
    "end = timer()\n",
    "print(end - start)\n",
    "print(fails_dict)\n"
   ]
  },
  {
   "cell_type": "code",
   "execution_count": 21,
   "id": "af485317",
   "metadata": {},
   "outputs": [
    {
     "name": "stdout",
     "output_type": "stream",
     "text": [
      "2356\n",
      "<class 'pandas.core.frame.DataFrame'>\n",
      "RangeIndex: 2356 entries, 0 to 2355\n",
      "Data columns (total 17 columns):\n",
      " #   Column                      Non-Null Count  Dtype  \n",
      "---  ------                      --------------  -----  \n",
      " 0   tweet_id                    2356 non-null   int64  \n",
      " 1   in_reply_to_status_id       78 non-null     float64\n",
      " 2   in_reply_to_user_id         78 non-null     float64\n",
      " 3   timestamp                   2356 non-null   object \n",
      " 4   source                      2356 non-null   object \n",
      " 5   text                        2356 non-null   object \n",
      " 6   retweeted_status_id         181 non-null    float64\n",
      " 7   retweeted_status_user_id    181 non-null    float64\n",
      " 8   retweeted_status_timestamp  181 non-null    object \n",
      " 9   expanded_urls               2297 non-null   object \n",
      " 10  rating_numerator            2356 non-null   int64  \n",
      " 11  rating_denominator          2356 non-null   int64  \n",
      " 12  name                        2356 non-null   object \n",
      " 13  doggo                       2356 non-null   object \n",
      " 14  floofer                     2356 non-null   object \n",
      " 15  pupper                      2356 non-null   object \n",
      " 16  puppo                       2356 non-null   object \n",
      "dtypes: float64(4), int64(3), object(10)\n",
      "memory usage: 313.0+ KB\n",
      "None\n"
     ]
    }
   ],
   "source": [
    "import pandas as pd\n",
    "\n",
    "df_archived = pd.read_csv(\"twitter-archive-enhanced.csv\")\n",
    "\n",
    "tweet_ids = df_archived.tweet_id.values\n",
    "\n",
    "print(len(tweet_ids))\n",
    "print(df_archived.info())"
   ]
  },
  {
   "cell_type": "code",
   "execution_count": 29,
   "id": "d29f5d66",
   "metadata": {},
   "outputs": [
    {
     "name": "stdout",
     "output_type": "stream",
     "text": [
      "Sushi - 12342 \n",
      "\n",
      "Duraction - -11081\n"
     ]
    }
   ],
   "source": [
    "end = 12342\n",
    "start = 23423\n",
    "print('Sushi - {} \\n'.format(end))\n",
    "\n",
    "print('Duraction - {}'.format(end - start))"
   ]
  },
  {
   "cell_type": "code",
   "execution_count": null,
   "id": "b1789799",
   "metadata": {},
   "outputs": [],
   "source": []
  }
 ],
 "metadata": {
  "kernelspec": {
   "display_name": "Python [conda env:io] *",
   "language": "python",
   "name": "conda-env-io-py"
  },
  "language_info": {
   "codemirror_mode": {
    "name": "ipython",
    "version": 3
   },
   "file_extension": ".py",
   "mimetype": "text/x-python",
   "name": "python",
   "nbconvert_exporter": "python",
   "pygments_lexer": "ipython3",
   "version": "3.9.15"
  }
 },
 "nbformat": 4,
 "nbformat_minor": 5
}
